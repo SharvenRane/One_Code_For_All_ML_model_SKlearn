{
 "cells": [
  {
   "cell_type": "code",
   "execution_count": 1,
   "id": "58262990",
   "metadata": {},
   "outputs": [],
   "source": [
    "#All the import files"
   ]
  },
  {
   "cell_type": "code",
   "execution_count": 2,
   "id": "ceba2a80",
   "metadata": {},
   "outputs": [],
   "source": [
    "import pandas as pd\n",
    "import numpy as np\n",
    "import matplotlib.pyplot as plt\n",
    "import seaborn as sns"
   ]
  },
  {
   "cell_type": "code",
   "execution_count": 3,
   "id": "b5b2dd81",
   "metadata": {},
   "outputs": [],
   "source": [
    "from sklearn.model_selection import train_test_split\n",
    "from sklearn.preprocessing import StandardScaler, LabelEncoder \n",
    "from sklearn.metrics import classification_report, confusion_matrix, roc_auc_score, roc_curve"
   ]
  },
  {
   "cell_type": "code",
   "execution_count": 4,
   "id": "90170eaa",
   "metadata": {},
   "outputs": [],
   "source": [
    "# Step 1: Load the dataset\n",
    "# Replace 'your_dataset.csv' with the dataset's filename or path"
   ]
  },
  {
   "cell_type": "code",
   "execution_count": 5,
   "id": "8b52cb0b",
   "metadata": {},
   "outputs": [],
   "source": [
    "data = pd.read_csv('heart.csv')"
   ]
  },
  {
   "cell_type": "code",
   "execution_count": 6,
   "id": "9150b6a3",
   "metadata": {},
   "outputs": [],
   "source": [
    "# Step 2: Basic Data Exploration"
   ]
  },
  {
   "cell_type": "code",
   "execution_count": 7,
   "id": "5825d1f6",
   "metadata": {},
   "outputs": [
    {
     "name": "stdout",
     "output_type": "stream",
     "text": [
      "Data Shape: (303, 14)\n"
     ]
    }
   ],
   "source": [
    "print(\"Data Shape:\", data.shape)"
   ]
  },
  {
   "cell_type": "code",
   "execution_count": 8,
   "id": "5767bd28",
   "metadata": {},
   "outputs": [
    {
     "name": "stdout",
     "output_type": "stream",
     "text": [
      "Data Columns: Index(['age', 'sex', 'cp', 'trestbps', 'chol', 'fbs', 'restecg', 'thalach',\n",
      "       'exang', 'oldpeak', 'slope', 'ca', 'thal', 'target'],\n",
      "      dtype='object')\n"
     ]
    }
   ],
   "source": [
    "print(\"Data Columns:\", data.columns)"
   ]
  },
  {
   "cell_type": "code",
   "execution_count": 9,
   "id": "88b793f6",
   "metadata": {},
   "outputs": [
    {
     "name": "stdout",
     "output_type": "stream",
     "text": [
      "Missing Values:\n",
      " age         0\n",
      "sex         0\n",
      "cp          0\n",
      "trestbps    0\n",
      "chol        0\n",
      "fbs         0\n",
      "restecg     0\n",
      "thalach     0\n",
      "exang       0\n",
      "oldpeak     0\n",
      "slope       0\n",
      "ca          0\n",
      "thal        0\n",
      "target      0\n",
      "dtype: int64\n"
     ]
    }
   ],
   "source": [
    "print(\"Missing Values:\\n\", data.isnull().sum())"
   ]
  },
  {
   "cell_type": "code",
   "execution_count": 10,
   "id": "d69eee58",
   "metadata": {},
   "outputs": [
    {
     "name": "stdout",
     "output_type": "stream",
     "text": [
      "Data Summary:\n",
      "               age         sex          cp    trestbps        chol         fbs  \\\n",
      "count  303.000000  303.000000  303.000000  303.000000  303.000000  303.000000   \n",
      "mean    54.366337    0.683168    0.966997  131.623762  246.264026    0.148515   \n",
      "std      9.082101    0.466011    1.032052   17.538143   51.830751    0.356198   \n",
      "min     29.000000    0.000000    0.000000   94.000000  126.000000    0.000000   \n",
      "25%     47.500000    0.000000    0.000000  120.000000  211.000000    0.000000   \n",
      "50%     55.000000    1.000000    1.000000  130.000000  240.000000    0.000000   \n",
      "75%     61.000000    1.000000    2.000000  140.000000  274.500000    0.000000   \n",
      "max     77.000000    1.000000    3.000000  200.000000  564.000000    1.000000   \n",
      "\n",
      "          restecg     thalach       exang     oldpeak       slope          ca  \\\n",
      "count  303.000000  303.000000  303.000000  303.000000  303.000000  303.000000   \n",
      "mean     0.528053  149.646865    0.326733    1.039604    1.399340    0.729373   \n",
      "std      0.525860   22.905161    0.469794    1.161075    0.616226    1.022606   \n",
      "min      0.000000   71.000000    0.000000    0.000000    0.000000    0.000000   \n",
      "25%      0.000000  133.500000    0.000000    0.000000    1.000000    0.000000   \n",
      "50%      1.000000  153.000000    0.000000    0.800000    1.000000    0.000000   \n",
      "75%      1.000000  166.000000    1.000000    1.600000    2.000000    1.000000   \n",
      "max      2.000000  202.000000    1.000000    6.200000    2.000000    4.000000   \n",
      "\n",
      "             thal      target  \n",
      "count  303.000000  303.000000  \n",
      "mean     2.313531    0.544554  \n",
      "std      0.612277    0.498835  \n",
      "min      0.000000    0.000000  \n",
      "25%      2.000000    0.000000  \n",
      "50%      2.000000    1.000000  \n",
      "75%      3.000000    1.000000  \n",
      "max      3.000000    1.000000  \n"
     ]
    }
   ],
   "source": [
    "print(\"Data Summary:\\n\", data.describe())"
   ]
  },
  {
   "cell_type": "code",
   "execution_count": 11,
   "id": "a9a9a1ba",
   "metadata": {},
   "outputs": [
    {
     "name": "stdout",
     "output_type": "stream",
     "text": [
      "Data Types:\n",
      " age           int64\n",
      "sex           int64\n",
      "cp            int64\n",
      "trestbps      int64\n",
      "chol          int64\n",
      "fbs           int64\n",
      "restecg       int64\n",
      "thalach       int64\n",
      "exang         int64\n",
      "oldpeak     float64\n",
      "slope         int64\n",
      "ca            int64\n",
      "thal          int64\n",
      "target        int64\n",
      "dtype: object\n"
     ]
    }
   ],
   "source": [
    "print(\"Data Types:\\n\", data.dtypes)"
   ]
  },
  {
   "cell_type": "code",
   "execution_count": 12,
   "id": "82ff23e8",
   "metadata": {},
   "outputs": [],
   "source": [
    "# Step 3: Data Preprocessing\n",
    "# Handling missing values (e.g., filling with mean for simplicity)"
   ]
  },
  {
   "cell_type": "code",
   "execution_count": 13,
   "id": "f03d90bc",
   "metadata": {},
   "outputs": [],
   "source": [
    "data.fillna(data.mean(), inplace = True)"
   ]
  },
  {
   "cell_type": "code",
   "execution_count": 14,
   "id": "ca41c480",
   "metadata": {},
   "outputs": [],
   "source": [
    "# Encoding categorical variables if any"
   ]
  },
  {
   "cell_type": "code",
   "execution_count": 15,
   "id": "d0c0ea58",
   "metadata": {},
   "outputs": [],
   "source": [
    "label_encoders = {}\n",
    "for column in data.select_dtypes(include=['object']).columns:\n",
    "    le = LabelEncoder()\n",
    "    data[column] = le.fit_transform(data[column])\n",
    "    label_encoder[column] = le # save encoder for potential use later"
   ]
  },
  {
   "cell_type": "code",
   "execution_count": 16,
   "id": "f4e9d46f",
   "metadata": {},
   "outputs": [],
   "source": [
    "## Feature Scaling"
   ]
  },
  {
   "cell_type": "code",
   "execution_count": 17,
   "id": "5265d021",
   "metadata": {},
   "outputs": [],
   "source": [
    "scaler = StandardScaler()\n",
    "features = data.drop(columns=['target'])  # Replace 'target' if your dataset uses a different name\n",
    "target = data['target']\n",
    "features = scaler.fit_transform(features)"
   ]
  },
  {
   "cell_type": "code",
   "execution_count": 18,
   "id": "5528cb8b",
   "metadata": {},
   "outputs": [],
   "source": [
    "# Convert scaled features back to a DataFrame\n",
    "scaled_features_df = pd.DataFrame(features, columns=data.drop(columns=['target']).columns)"
   ]
  },
  {
   "cell_type": "code",
   "execution_count": 19,
   "id": "15e0e256",
   "metadata": {},
   "outputs": [
    {
     "name": "stdout",
     "output_type": "stream",
     "text": [
      "        age       sex        cp  trestbps      chol       fbs   restecg  \\\n",
      "0  0.952197  0.681005  1.973123  0.763956 -0.256334  2.394438 -1.005832   \n",
      "1 -1.915313  0.681005  1.002577 -0.092738  0.072199 -0.417635  0.898962   \n",
      "2 -1.474158 -1.468418  0.032031 -0.092738 -0.816773 -0.417635 -1.005832   \n",
      "3  0.180175  0.681005  0.032031 -0.663867 -0.198357 -0.417635  0.898962   \n",
      "4  0.290464 -1.468418 -0.938515 -0.663867  2.082050 -0.417635  0.898962   \n",
      "\n",
      "    thalach     exang   oldpeak     slope        ca      thal  \n",
      "0  0.015443 -0.696631  1.087338 -2.274579 -0.714429 -2.148873  \n",
      "1  1.633471 -0.696631  2.122573 -2.274579 -0.714429 -0.512922  \n",
      "2  0.977514 -0.696631  0.310912  0.976352 -0.714429 -0.512922  \n",
      "3  1.239897 -0.696631 -0.206705  0.976352 -0.714429 -0.512922  \n",
      "4  0.583939  1.435481 -0.379244  0.976352 -0.714429 -0.512922  \n"
     ]
    }
   ],
   "source": [
    "# Display the first few rows of the scaled data\n",
    "print(scaled_features_df.head())"
   ]
  },
  {
   "cell_type": "code",
   "execution_count": 20,
   "id": "c96f88e4",
   "metadata": {},
   "outputs": [],
   "source": [
    "# Step 4: Train-Test Split"
   ]
  },
  {
   "cell_type": "code",
   "execution_count": 21,
   "id": "daca6509",
   "metadata": {},
   "outputs": [],
   "source": [
    "X_train, X_test, y_train, y_test = train_test_split(features, target, test_size=0.2, random_state=42)"
   ]
  },
  {
   "cell_type": "code",
   "execution_count": 22,
   "id": "80edd7ec",
   "metadata": {},
   "outputs": [],
   "source": [
    "#Below this things will change as per the model used"
   ]
  },
  {
   "cell_type": "code",
   "execution_count": 23,
   "id": "ca02ef50",
   "metadata": {},
   "outputs": [],
   "source": [
    "# Step 5: Model Training"
   ]
  },
  {
   "cell_type": "code",
   "execution_count": 24,
   "id": "b98140b1",
   "metadata": {},
   "outputs": [],
   "source": [
    "## Random Forest"
   ]
  },
  {
   "cell_type": "code",
   "execution_count": 25,
   "id": "7f7c7088",
   "metadata": {},
   "outputs": [],
   "source": [
    "from sklearn.ensemble import RandomForestClassifier"
   ]
  },
  {
   "cell_type": "code",
   "execution_count": 26,
   "id": "ee1fa97b",
   "metadata": {},
   "outputs": [
    {
     "data": {
      "text/html": [
       "<style>#sk-container-id-1 {color: black;background-color: white;}#sk-container-id-1 pre{padding: 0;}#sk-container-id-1 div.sk-toggleable {background-color: white;}#sk-container-id-1 label.sk-toggleable__label {cursor: pointer;display: block;width: 100%;margin-bottom: 0;padding: 0.3em;box-sizing: border-box;text-align: center;}#sk-container-id-1 label.sk-toggleable__label-arrow:before {content: \"▸\";float: left;margin-right: 0.25em;color: #696969;}#sk-container-id-1 label.sk-toggleable__label-arrow:hover:before {color: black;}#sk-container-id-1 div.sk-estimator:hover label.sk-toggleable__label-arrow:before {color: black;}#sk-container-id-1 div.sk-toggleable__content {max-height: 0;max-width: 0;overflow: hidden;text-align: left;background-color: #f0f8ff;}#sk-container-id-1 div.sk-toggleable__content pre {margin: 0.2em;color: black;border-radius: 0.25em;background-color: #f0f8ff;}#sk-container-id-1 input.sk-toggleable__control:checked~div.sk-toggleable__content {max-height: 200px;max-width: 100%;overflow: auto;}#sk-container-id-1 input.sk-toggleable__control:checked~label.sk-toggleable__label-arrow:before {content: \"▾\";}#sk-container-id-1 div.sk-estimator input.sk-toggleable__control:checked~label.sk-toggleable__label {background-color: #d4ebff;}#sk-container-id-1 div.sk-label input.sk-toggleable__control:checked~label.sk-toggleable__label {background-color: #d4ebff;}#sk-container-id-1 input.sk-hidden--visually {border: 0;clip: rect(1px 1px 1px 1px);clip: rect(1px, 1px, 1px, 1px);height: 1px;margin: -1px;overflow: hidden;padding: 0;position: absolute;width: 1px;}#sk-container-id-1 div.sk-estimator {font-family: monospace;background-color: #f0f8ff;border: 1px dotted black;border-radius: 0.25em;box-sizing: border-box;margin-bottom: 0.5em;}#sk-container-id-1 div.sk-estimator:hover {background-color: #d4ebff;}#sk-container-id-1 div.sk-parallel-item::after {content: \"\";width: 100%;border-bottom: 1px solid gray;flex-grow: 1;}#sk-container-id-1 div.sk-label:hover label.sk-toggleable__label {background-color: #d4ebff;}#sk-container-id-1 div.sk-serial::before {content: \"\";position: absolute;border-left: 1px solid gray;box-sizing: border-box;top: 0;bottom: 0;left: 50%;z-index: 0;}#sk-container-id-1 div.sk-serial {display: flex;flex-direction: column;align-items: center;background-color: white;padding-right: 0.2em;padding-left: 0.2em;position: relative;}#sk-container-id-1 div.sk-item {position: relative;z-index: 1;}#sk-container-id-1 div.sk-parallel {display: flex;align-items: stretch;justify-content: center;background-color: white;position: relative;}#sk-container-id-1 div.sk-item::before, #sk-container-id-1 div.sk-parallel-item::before {content: \"\";position: absolute;border-left: 1px solid gray;box-sizing: border-box;top: 0;bottom: 0;left: 50%;z-index: -1;}#sk-container-id-1 div.sk-parallel-item {display: flex;flex-direction: column;z-index: 1;position: relative;background-color: white;}#sk-container-id-1 div.sk-parallel-item:first-child::after {align-self: flex-end;width: 50%;}#sk-container-id-1 div.sk-parallel-item:last-child::after {align-self: flex-start;width: 50%;}#sk-container-id-1 div.sk-parallel-item:only-child::after {width: 0;}#sk-container-id-1 div.sk-dashed-wrapped {border: 1px dashed gray;margin: 0 0.4em 0.5em 0.4em;box-sizing: border-box;padding-bottom: 0.4em;background-color: white;}#sk-container-id-1 div.sk-label label {font-family: monospace;font-weight: bold;display: inline-block;line-height: 1.2em;}#sk-container-id-1 div.sk-label-container {text-align: center;}#sk-container-id-1 div.sk-container {/* jupyter's `normalize.less` sets `[hidden] { display: none; }` but bootstrap.min.css set `[hidden] { display: none !important; }` so we also need the `!important` here to be able to override the default hidden behavior on the sphinx rendered scikit-learn.org. See: https://github.com/scikit-learn/scikit-learn/issues/21755 */display: inline-block !important;position: relative;}#sk-container-id-1 div.sk-text-repr-fallback {display: none;}</style><div id=\"sk-container-id-1\" class=\"sk-top-container\"><div class=\"sk-text-repr-fallback\"><pre>RandomForestClassifier(random_state=42)</pre><b>In a Jupyter environment, please rerun this cell to show the HTML representation or trust the notebook. <br />On GitHub, the HTML representation is unable to render, please try loading this page with nbviewer.org.</b></div><div class=\"sk-container\" hidden><div class=\"sk-item\"><div class=\"sk-estimator sk-toggleable\"><input class=\"sk-toggleable__control sk-hidden--visually\" id=\"sk-estimator-id-1\" type=\"checkbox\" checked><label for=\"sk-estimator-id-1\" class=\"sk-toggleable__label sk-toggleable__label-arrow\">RandomForestClassifier</label><div class=\"sk-toggleable__content\"><pre>RandomForestClassifier(random_state=42)</pre></div></div></div></div></div>"
      ],
      "text/plain": [
       "RandomForestClassifier(random_state=42)"
      ]
     },
     "execution_count": 26,
     "metadata": {},
     "output_type": "execute_result"
    }
   ],
   "source": [
    "model = RandomForestClassifier(random_state=42)\n",
    "model.fit(X_train, y_train)"
   ]
  },
  {
   "cell_type": "code",
   "execution_count": 27,
   "id": "c63b009b",
   "metadata": {},
   "outputs": [],
   "source": [
    "# Step 6: Model Evaluation"
   ]
  },
  {
   "cell_type": "code",
   "execution_count": 28,
   "id": "4a7fa259",
   "metadata": {},
   "outputs": [
    {
     "name": "stdout",
     "output_type": "stream",
     "text": [
      "Classification Report:\n",
      "               precision    recall  f1-score   support\n",
      "\n",
      "           0       0.83      0.83      0.83        29\n",
      "           1       0.84      0.84      0.84        32\n",
      "\n",
      "    accuracy                           0.84        61\n",
      "   macro avg       0.84      0.84      0.84        61\n",
      "weighted avg       0.84      0.84      0.84        61\n",
      "\n",
      "Confusion Matrix:\n",
      " [[24  5]\n",
      " [ 5 27]]\n"
     ]
    }
   ],
   "source": [
    "y_pred = model.predict(X_test)\n",
    "print(\"Classification Report:\\n\", classification_report(y_test, y_pred))\n",
    "print(\"Confusion Matrix:\\n\", confusion_matrix(y_test, y_pred))"
   ]
  },
  {
   "cell_type": "code",
   "execution_count": 29,
   "id": "5cc0fe6f",
   "metadata": {},
   "outputs": [],
   "source": [
    "#Precision: The proportion of true positive predictions among all positive predictions (i.e., how many of the predicted positives are actually positive).\n",
    "#Recall: The proportion of true positive predictions among all actual positives (i.e., how many of the actual positives were predicted correctly).\n",
    "#F1-Score: The harmonic mean of precision and recall, balancing both metrics.\n",
    "#Accuracy: The overall percentage of correct predictions.\n",
    "\n",
    "#Confusion Matrix:\n",
    "# [[TN  FP]\n",
    "# [ FN TP]]\n",
    "#(TP): The model correctly predicted the positive class (e.g., heart disease = 1). This is the value at position [1, 1]\n",
    "#(TN): The model correctly predicted the negative class (e.g., no heart disease = 0). This is the value at position [0, 0] \n",
    "#(FP): The model incorrectly predicted the positive class when it should have predicted negative (e.g., predicted heart disease when there wasn't any). This is the value at position [0, 1]\n",
    "#(FN): The model incorrectly predicted the negative class when it should have predicted positive (e.g., predicted no heart disease when there actually was). This is the value at position [1, 0] "
   ]
  },
  {
   "cell_type": "code",
   "execution_count": 30,
   "id": "826df3e5",
   "metadata": {},
   "outputs": [
    {
     "name": "stdout",
     "output_type": "stream",
     "text": [
      "ROC-AUC Score: 0.9202586206896552\n"
     ]
    }
   ],
   "source": [
    "# Calculate ROC-AUC score\n",
    "y_proba = model.predict_proba(X_test)[:, 1]  # Probability of positive class\n",
    "roc_auc = roc_auc_score(y_test, y_proba)\n",
    "print(\"ROC-AUC Score:\", roc_auc)"
   ]
  },
  {
   "cell_type": "code",
   "execution_count": 31,
   "id": "f57b43b6",
   "metadata": {},
   "outputs": [],
   "source": [
    "#ROC-AUC stands for Receiver Operating Characteristic - Area Under the Curve:\n",
    "#ROC Curve: A graphical representation of the model's performance at different classification thresholds (ranging from 0 to 1). It plots the True Positive Rate (TPR, also called recall) against the False Positive Rate (FPR).\n",
    "#AUC (Area Under the Curve): A single value that represents the overall ability of the model to distinguish between positive and negative classes. The value ranges from 0 to 1:\n",
    "#AUC = 0.5: The model is no better than random chance.\n",
    "#AUC = 1: The model is perfect at distinguishing between the positive and negative classes.\n",
    "#Higher AUC values indicate better performance."
   ]
  },
  {
   "cell_type": "code",
   "execution_count": 32,
   "id": "9465253d",
   "metadata": {},
   "outputs": [],
   "source": [
    "# Step 7: Visualization"
   ]
  },
  {
   "cell_type": "code",
   "execution_count": 33,
   "id": "7111f32e",
   "metadata": {},
   "outputs": [
    {
     "data": {
      "image/png": "[encoded data removed]",
      "text/plain": [
       "<Figure size 576x432 with 2 Axes>"
      ]
     },
     "metadata": {
      "needs_background": "light"
     },
     "output_type": "display_data"
    }
   ],
   "source": [
    "# Confusion Matrix\n",
    "plt.figure(figsize=(8, 6))\n",
    "sns.heatmap(confusion_matrix(y_test, y_pred), annot=True, fmt='d', cmap='Blues')\n",
    "plt.title('Confusion Matrix')\n",
    "plt.xlabel('Predicted')\n",
    "plt.ylabel('Actual')\n",
    "plt.show()"
   ]
  },
  {
   "cell_type": "code",
   "execution_count": 34,
   "id": "93fd9458",
   "metadata": {},
   "outputs": [
    {
     "data": {
      "image/png": "[encoded data removed]",
      "text/plain": [
       "<Figure size 576x432 with 1 Axes>"
      ]
     },
     "metadata": {
      "needs_background": "light"
     },
     "output_type": "display_data"
    }
   ],
   "source": [
    "# ROC Curve\n",
    "fpr, tpr, thresholds = roc_curve(y_test, y_proba)\n",
    "plt.figure(figsize=(8, 6))\n",
    "plt.plot(fpr, tpr, color='blue', label=f'ROC Curve (AUC = {roc_auc:.2f})')\n",
    "plt.plot([0, 1], [0, 1], color='gray', linestyle='--')\n",
    "plt.xlabel('False Positive Rate')\n",
    "plt.ylabel('True Positive Rate')\n",
    "plt.title('ROC Curve')\n",
    "plt.legend()\n",
    "plt.show()"
   ]
  }
 ],
 "metadata": {
  "kernelspec": {
   "display_name": "Python 3 (ipykernel)",
   "language": "python",
   "name": "python3"
  },
  "language_info": {
   "codemirror_mode": {
    "name": "ipython",
    "version": 3
   },
   "file_extension": ".py",
   "mimetype": "text/x-python",
   "name": "python",
   "nbconvert_exporter": "python",
   "pygments_lexer": "ipython3",
   "version": "3.9.20"
  }
 },
 "nbformat": 4,
 "nbformat_minor": 5
}
